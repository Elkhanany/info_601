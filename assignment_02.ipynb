{
 "cells": [
  {
   "cell_type": "markdown",
   "metadata": {},
   "source": [
    "We start by installing E-Direct from NCBI"
   ]
  },
  {
   "cell_type": "code",
   "execution_count": null,
   "metadata": {},
   "outputs": [],
   "source": [
    "source ~/Downloads/install-edirect.sh"
   ]
  },
  {
   "cell_type": "markdown",
   "metadata": {},
   "source": [
    "Then we add PATH to edirect package. Of note, since I am usin BASH kernel wrapper I will use export. Within zsh, I can simply write ```path+=./edirect```. Of note, since edirect changed ```.bashrc```, and I am using bash kernel, I do not have to re-run the path. "
   ]
  },
  {
   "cell_type": "code",
   "execution_count": 3,
   "metadata": {},
   "outputs": [
    {
     "name": "stdout",
     "output_type": "stream",
     "text": [
      "/Users/elkhanany/Dropbox/bioinformatics/info_601\n"
     ]
    }
   ],
   "source": [
    "pwd"
   ]
  },
  {
   "cell_type": "code",
   "execution_count": 5,
   "metadata": {},
   "outputs": [],
   "source": [
    "export PATH=$PATH:/Users/elkhanany/Dropbox/bioinformatics/edirect"
   ]
  },
  {
   "cell_type": "code",
   "execution_count": 6,
   "metadata": {},
   "outputs": [
    {
     "name": "stdout",
     "output_type": "stream",
     "text": [
      "/Users/elkhanany/anaconda3/bin:/Users/elkhanany/anaconda3/condabin:/Library/Frameworks/Python.framework/Versions/3.8/bin:/usr/local/bin:/usr/bin:/bin:/usr/sbin:/sbin:/Library/TeX/texbin:/opt/X11/bin:/Library/Apple/usr/bin:/Users/elkhanany/edirect:/Users/elkhanany/Dropbox/bioinformatics/edirect\n"
     ]
    }
   ],
   "source": [
    "echo $PATH"
   ]
  },
  {
   "cell_type": "markdown",
   "metadata": {},
   "source": [
    "Now we perform simple search demonstrating 212 articles for said author"
   ]
  },
  {
   "cell_type": "code",
   "execution_count": 7,
   "metadata": {},
   "outputs": [
    {
     "name": "stdout",
     "output_type": "stream",
     "text": [
      "<ENTREZ_DIRECT>\n",
      "  <Db>pubmed</Db>\n",
      "  <WebEnv>MCID_5f550cbab044aa1be43274cc</WebEnv>\n",
      "  <QueryKey>1</QueryKey>\n",
      "  <Count>212</Count>\n",
      "  <Step>1</Step>\n",
      "</ENTREZ_DIRECT>\n"
     ]
    }
   ],
   "source": [
    "esearch -db pubmed -query \"durbin,richard\""
   ]
  },
  {
   "cell_type": "markdown",
   "metadata": {},
   "source": [
    "Of note, if we speifiy $Author$ argument, we get 171 articles instead"
   ]
  },
  {
   "cell_type": "code",
   "execution_count": 8,
   "metadata": {},
   "outputs": [
    {
     "name": "stdout",
     "output_type": "stream",
     "text": [
      "<ENTREZ_DIRECT>\n",
      "  <Db>pubmed</Db>\n",
      "  <WebEnv>MCID_5f550cbcc571556cfd4a2b4d</WebEnv>\n",
      "  <QueryKey>1</QueryKey>\n",
      "  <Count>171</Count>\n",
      "  <Step>1</Step>\n",
      "</ENTREZ_DIRECT>\n"
     ]
    }
   ],
   "source": [
    "esearch -db pubmed -query \"durbin,richard [AUTH]\""
   ]
  },
  {
   "cell_type": "code",
   "execution_count": null,
   "metadata": {},
   "outputs": [],
   "source": []
  }
 ],
 "metadata": {
  "kernelspec": {
   "display_name": "Bash",
   "language": "bash",
   "name": "bash"
  },
  "language_info": {
   "codemirror_mode": "shell",
   "file_extension": ".sh",
   "mimetype": "text/x-sh",
   "name": "bash"
  }
 },
 "nbformat": 4,
 "nbformat_minor": 4
}
